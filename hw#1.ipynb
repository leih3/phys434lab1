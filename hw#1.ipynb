{
 "cells": [
  {
   "cell_type": "code",
   "execution_count": 14,
   "id": "d011f88a-e9c5-4d44-af5e-9ddc53d04bfd",
   "metadata": {},
   "outputs": [],
   "source": [
    "import numpy as np\n",
    "import matplotlib\n",
    "import matplotlib.pyplot as plt\n",
    "import scipy\n",
    "from scipy import stats\n",
    "\n",
    "#this sets the size of the plot to something useful\n",
    "plt.rcParams[\"figure.figsize\"] = (15,10)"
   ]
  },
  {
   "cell_type": "markdown",
   "id": "817f9d77-daa5-406c-afb5-7829b76f63cd",
   "metadata": {},
   "source": [
    "# A little statistics"
   ]
  },
  {
   "cell_type": "markdown",
   "id": "50782298-114c-4fa2-8954-686a449dae55",
   "metadata": {},
   "source": [
    "### problem #1."
   ]
  },
  {
   "cell_type": "code",
   "execution_count": 15,
   "id": "23f4c5b7-0852-45a0-aa0a-499c30845739",
   "metadata": {},
   "outputs": [
    {
     "data": {
      "text/plain": [
       "array([1.        , 1.11111111, 1.22222222, 1.33333333, 1.44444444,\n",
       "       1.55555556, 1.66666667, 1.77777778, 1.88888889, 2.        ])"
      ]
     },
     "execution_count": 15,
     "metadata": {},
     "output_type": "execute_result"
    }
   ],
   "source": [
    "data = np.linspace(1,2,num = 10)\n",
    "data"
   ]
  },
  {
   "cell_type": "code",
   "execution_count": 16,
   "id": "e4c45983-4b61-4764-9180-a95f8809be29",
   "metadata": {},
   "outputs": [
    {
     "data": {
      "text/plain": [
       "array([0.84134475, 0.86673974, 0.8891882 , 0.90878878, 0.925693  ,\n",
       "       0.94009309, 0.95220965, 0.96227982, 0.97054664, 0.97724987])"
      ]
     },
     "execution_count": 16,
     "metadata": {},
     "output_type": "execute_result"
    }
   ],
   "source": [
    "scpd = stats.norm.cdf(data)\n",
    "scpd"
   ]
  },
  {
   "cell_type": "code",
   "execution_count": 17,
   "id": "0ed50aa2-ce12-4f01-8b59-3ba0ebcec4e7",
   "metadata": {},
   "outputs": [
    {
     "data": {
      "text/plain": [
       "array([1.        , 1.11111111, 1.22222222, 1.33333333, 1.44444444,\n",
       "       1.55555556, 1.66666667, 1.77777778, 1.88888889, 2.        ])"
      ]
     },
     "execution_count": 17,
     "metadata": {},
     "output_type": "execute_result"
    }
   ],
   "source": [
    "stats.norm.ppf(scpd)"
   ]
  },
  {
   "cell_type": "code",
   "execution_count": 18,
   "id": "688e32f5-953e-4e70-87ca-ad4d1d66e7b6",
   "metadata": {},
   "outputs": [
    {
     "data": {
      "text/plain": [
       "array([1.        , 1.11111111, 1.22222222, 1.33333333, 1.44444444,\n",
       "       1.55555556, 1.66666667, 1.77777778, 1.88888889, 2.        ])"
      ]
     },
     "execution_count": 18,
     "metadata": {},
     "output_type": "execute_result"
    }
   ],
   "source": [
    "data"
   ]
  },
  {
   "cell_type": "code",
   "execution_count": null,
   "id": "ba31b8dc-33ba-43ba-b85c-b59ad5e1a73e",
   "metadata": {},
   "outputs": [],
   "source": []
  },
  {
   "cell_type": "markdown",
   "id": "55a2148e-22eb-4556-ae41-d159bf57556e",
   "metadata": {},
   "source": [
    "### problem #2."
   ]
  },
  {
   "cell_type": "code",
   "execution_count": 19,
   "id": "196fb8b3-b3d5-48b7-80cd-f4da550a71f2",
   "metadata": {},
   "outputs": [
    {
     "data": {
      "image/png": "[encoded data removed]",
      "text/plain": [
       "<Figure size 1080x720 with 1 Axes>"
      ]
     },
     "metadata": {
      "needs_background": "light"
     },
     "output_type": "display_data"
    }
   ],
   "source": [
    "d = stats.rayleigh.rvs(loc = 1.0, scale = .01, size = 100000)\n",
    "fig, ax = plt.subplots(1, 1)\n",
    "ax.hist(d,50, density=True)\n",
    "plt.tick_params(labelsize = 20)\n",
    "plt.xlim([1.00, 1.08])\n",
    "x = np.linspace(1,1.08,100000)\n",
    "ax.plot(x,stats.rayleigh.pdf(x,loc = 1., scale = 0.01),linewidth = 8,alpha = 0.7)\n",
    "plt.show()"
   ]
  },
  {
   "cell_type": "markdown",
   "id": "c2449ef5-4127-4968-beaf-2dc4a0b92874",
   "metadata": {},
   "source": [
    "### Problem #3"
   ]
  },
  {
   "cell_type": "markdown",
   "id": "0424f73a-c3bd-414a-9c5e-37e043f9463d",
   "metadata": {},
   "source": [
    "#### question A: hypothetical measurement : 1.02 or above"
   ]
  },
  {
   "cell_type": "markdown",
   "id": "f634bd79-fbcb-4b52-8af0-7bf81fe96bf1",
   "metadata": {},
   "source": [
    "#### question B: What's the probablity that the data produces a signal that's equally or more signal like than 1.02?"
   ]
  },
  {
   "cell_type": "code",
   "execution_count": 28,
   "id": "616ac60a-3420-456f-a248-33a6c8166efb",
   "metadata": {},
   "outputs": [
    {
     "data": {
      "text/plain": [
       "0.13533528323661215"
      ]
     },
     "execution_count": 28,
     "metadata": {},
     "output_type": "execute_result"
    }
   ],
   "source": [
    "# question C & D\n",
    "\n",
    "mean = np.mean(d)\n",
    "prob = 1 - stats.rayleigh.cdf(1.02, loc = 1.00, scale = 0.01)\n",
    "prob\n",
    "\n",
    "# the number I got is just the area under the distribution that's greater than the bar I set at 1.02.\n"
   ]
  },
  {
   "cell_type": "code",
   "execution_count": 29,
   "id": "3c66ac3e-3541-4ba4-91b5-7f3bf0294d9b",
   "metadata": {},
   "outputs": [
    {
     "data": {
      "text/plain": [
       "-0.7138193503694712"
      ]
     },
     "execution_count": 29,
     "metadata": {},
     "output_type": "execute_result"
    }
   ],
   "source": [
    "# question E\n",
    "\n",
    "mean = np.mean(d)\n",
    "value1 = stats.rayleigh.ppf(intergal,loc = 1.00, scale = 0.01)\n",
    "sigma = (value1 - mean)/0.01\n",
    "sigma"
   ]
  },
  {
   "cell_type": "markdown",
   "id": "d3384cb9-3b14-4ef4-9ccf-e39a80f5fe4a",
   "metadata": {},
   "source": [
    "### Problem #4"
   ]
  },
  {
   "cell_type": "code",
   "execution_count": 27,
   "id": "41ccae84-b02b-4c56-8d03-0e54acf57997",
   "metadata": {},
   "outputs": [
    {
     "data": {
      "text/plain": [
       "-1.1036295654537565"
      ]
     },
     "execution_count": 27,
     "metadata": {},
     "output_type": "execute_result"
    }
   ],
   "source": [
    "# trials\n",
    "testvalue2 = 1.03\n",
    "prob2 = 1 - stats.rayleigh.cdf(testvalue2, loc = 1.00, scale = 0.01)\n",
    "value2 = stats.rayleigh.ppf(prob2,loc = 1.00, scale = 0.01)\n",
    "sigma2 = (value2 - mean)/0.01\n",
    "sigma2"
   ]
  },
  {
   "cell_type": "code",
   "execution_count": 26,
   "id": "22e3d12e-1e54-4f11-aa11-7acd5f168095",
   "metadata": {},
   "outputs": [
    {
     "data": {
      "text/plain": [
       "0.11273158174631703"
      ]
     },
     "execution_count": 26,
     "metadata": {},
     "output_type": "execute_result"
    }
   ],
   "source": [
    "# more trials\n",
    "testvalue3 = 1.01\n",
    "prob3 = 1 - stats.rayleigh.cdf(testvalue3, loc = 1.00, scale = 0.01)\n",
    "value3 = stats.rayleigh.ppf(prob3,loc = 1.00, scale = 0.01)\n",
    "sigma3 = (value3 - mean)/0.01\n",
    "sigma3"
   ]
  },
  {
   "cell_type": "markdown",
   "id": "28621b36-81b5-4c71-bdac-d103e1afeb3b",
   "metadata": {},
   "source": [
    "As we choose a value that's closer to the mean of the distribution, the sigma value become smaller,vice versa.\n",
    "Which matches the expectation since sigma is basically how far away the data point is from the center."
   ]
  },
  {
   "cell_type": "markdown",
   "id": "771c0297-0886-4f06-a1c8-fddcee8fffe0",
   "metadata": {},
   "source": [
    "# Non-continuous distributions"
   ]
  },
  {
   "cell_type": "code",
   "execution_count": null,
   "id": "016c9622-e5ff-4c1e-8a10-a840590500d0",
   "metadata": {},
   "outputs": [],
   "source": []
  },
  {
   "cell_type": "code",
   "execution_count": 10,
   "id": "605c5bf7-7372-464a-989b-45f4fe1d93d9",
   "metadata": {},
   "outputs": [
    {
     "data": {
      "text/plain": [
       "[Text(0.5, 0, 'Poisson Distribution'), Text(0, 0.5, 'Frequency')]"
      ]
     },
     "execution_count": 10,
     "metadata": {},
     "output_type": "execute_result"
    },
    {
     "data": {
      "image/png": "[encoded data removed]",
      "text/plain": [
       "<Figure size 432x288 with 1 Axes>"
      ]
     },
     "metadata": {
      "needs_background": "light"
     },
     "output_type": "display_data"
    }
   ],
   "source": [
    "from scipy.stats import poisson\n",
    "import seaborn as sns\n",
    "\n",
    "data_poisson = poisson.rvs(mu=1, size=100)\n",
    "ax = sns.distplot(data_poisson,\n",
    "                  bins=8,\n",
    "                  kde=False,\n",
    "                  hist_kws={\"linewidth\": 10,'alpha':1})\n",
    "ax.set(xlabel='Poisson Distribution', ylabel='Frequency')\n"
   ]
  },
  {
   "cell_type": "code",
   "execution_count": null,
   "id": "7e50bbe8-4c4c-4e32-84c8-cef7d9bd7f5e",
   "metadata": {},
   "outputs": [],
   "source": []
  },
  {
   "cell_type": "code",
   "execution_count": null,
   "id": "3c394a6c-db5a-408a-95c7-df91d1c84399",
   "metadata": {},
   "outputs": [],
   "source": []
  },
  {
   "cell_type": "code",
   "execution_count": null,
   "id": "7bb42187-87fc-4206-b1c2-03de0ac1a1d3",
   "metadata": {},
   "outputs": [],
   "source": []
  }
 ],
 "metadata": {
  "kernelspec": {
   "display_name": "Python 3",
   "language": "python",
   "name": "python3"
  },
  "language_info": {
   "codemirror_mode": {
    "name": "ipython",
    "version": 3
   },
   "file_extension": ".py",
   "mimetype": "text/x-python",
   "name": "python",
   "nbconvert_exporter": "python",
   "pygments_lexer": "ipython3",
   "version": "3.8.8"
  }
 },
 "nbformat": 4,
 "nbformat_minor": 5
}

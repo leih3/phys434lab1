{
 "cells": [
  {
   "cell_type": "code",
   "execution_count": 14,
   "id": "d011f88a-e9c5-4d44-af5e-9ddc53d04bfd",
   "metadata": {},
   "outputs": [],
   "source": [
    "import numpy as np\n",
    "import matplotlib\n",
    "import matplotlib.pyplot as plt\n",
    "import scipy\n",
    "from scipy import stats\n",
    "from scipy.stats import poisson\n",
    "\n",
    "#this sets the size of the plot to something useful\n",
    "plt.rcParams[\"figure.figsize\"] = (15,10)"
   ]
  },
  {
   "cell_type": "markdown",
   "id": "817f9d77-daa5-406c-afb5-7829b76f63cd",
   "metadata": {},
   "source": [
    "# A little statistics"
   ]
  },
  {
   "cell_type": "markdown",
   "id": "50782298-114c-4fa2-8954-686a449dae55",
   "metadata": {},
   "source": [
    "### problem #1."
   ]
  },
  {
   "cell_type": "code",
   "execution_count": 15,
   "id": "23f4c5b7-0852-45a0-aa0a-499c30845739",
   "metadata": {},
   "outputs": [
    {
     "data": {
      "text/plain": [
       "array([1.        , 1.11111111, 1.22222222, 1.33333333, 1.44444444,\n",
       "       1.55555556, 1.66666667, 1.77777778, 1.88888889, 2.        ])"
      ]
     },
     "execution_count": 15,
     "metadata": {},
     "output_type": "execute_result"
    }
   ],
   "source": [
    "data = np.linspace(1,2,num = 10)\n",
    "data"
   ]
  },
  {
   "cell_type": "code",
   "execution_count": 16,
   "id": "e4c45983-4b61-4764-9180-a95f8809be29",
   "metadata": {},
   "outputs": [
    {
     "data": {
      "text/plain": [
       "array([0.84134475, 0.86673974, 0.8891882 , 0.90878878, 0.925693  ,\n",
       "       0.94009309, 0.95220965, 0.96227982, 0.97054664, 0.97724987])"
      ]
     },
     "execution_count": 16,
     "metadata": {},
     "output_type": "execute_result"
    }
   ],
   "source": [
    "scpd = stats.norm.cdf(data)\n",
    "scpd"
   ]
  },
  {
   "cell_type": "code",
   "execution_count": 17,
   "id": "0ed50aa2-ce12-4f01-8b59-3ba0ebcec4e7",
   "metadata": {},
   "outputs": [
    {
     "data": {
      "text/plain": [
       "array([1.        , 1.11111111, 1.22222222, 1.33333333, 1.44444444,\n",
       "       1.55555556, 1.66666667, 1.77777778, 1.88888889, 2.        ])"
      ]
     },
     "execution_count": 17,
     "metadata": {},
     "output_type": "execute_result"
    }
   ],
   "source": [
    "stats.norm.ppf(scpd)"
   ]
  },
  {
   "cell_type": "code",
   "execution_count": 18,
   "id": "688e32f5-953e-4e70-87ca-ad4d1d66e7b6",
   "metadata": {},
   "outputs": [
    {
     "data": {
      "text/plain": [
       "array([1.        , 1.11111111, 1.22222222, 1.33333333, 1.44444444,\n",
       "       1.55555556, 1.66666667, 1.77777778, 1.88888889, 2.        ])"
      ]
     },
     "execution_count": 18,
     "metadata": {},
     "output_type": "execute_result"
    }
   ],
   "source": [
    "data"
   ]
  },
  {
   "cell_type": "code",
   "execution_count": null,
   "id": "ba31b8dc-33ba-43ba-b85c-b59ad5e1a73e",
   "metadata": {},
   "outputs": [],
   "source": []
  },
  {
   "cell_type": "markdown",
   "id": "55a2148e-22eb-4556-ae41-d159bf57556e",
   "metadata": {},
   "source": [
    "### problem #2."
   ]
  },
  {
   "cell_type": "code",
   "execution_count": 19,
   "id": "196fb8b3-b3d5-48b7-80cd-f4da550a71f2",
   "metadata": {},
   "outputs": [
    {
     "data": {
      "image/png": "[encoded data removed]",
      "text/plain": [
       "<Figure size 1080x720 with 1 Axes>"
      ]
     },
     "metadata": {
      "needs_background": "light"
     },
     "output_type": "display_data"
    }
   ],
   "source": [
    "d = stats.rayleigh.rvs(loc = 1.0, scale = .01, size = 100000)\n",
    "fig, ax = plt.subplots(1, 1)\n",
    "ax.hist(d,50, density=True)\n",
    "plt.tick_params(labelsize = 20)\n",
    "plt.xlim([1.00, 1.08])\n",
    "x = np.linspace(1,1.08,100000)\n",
    "ax.plot(x,stats.rayleigh.pdf(x,loc = 1., scale = 0.01),linewidth = 8,alpha = 0.7)\n",
    "plt.show()"
   ]
  },
  {
   "cell_type": "markdown",
   "id": "c2449ef5-4127-4968-beaf-2dc4a0b92874",
   "metadata": {},
   "source": [
    "### Problem #3"
   ]
  },
  {
   "cell_type": "markdown",
   "id": "0424f73a-c3bd-414a-9c5e-37e043f9463d",
   "metadata": {},
   "source": [
    "#### question A: hypothetical measurement : 1.02 or above"
   ]
  },
  {
   "cell_type": "markdown",
   "id": "f634bd79-fbcb-4b52-8af0-7bf81fe96bf1",
   "metadata": {},
   "source": [
    "#### question B: What's the probablity that the data produces a signal that's equally or more signal like than 1.02?"
   ]
  },
  {
   "cell_type": "code",
   "execution_count": 28,
   "id": "616ac60a-3420-456f-a248-33a6c8166efb",
   "metadata": {},
   "outputs": [
    {
     "data": {
      "text/plain": [
       "0.13533528323661215"
      ]
     },
     "execution_count": 28,
     "metadata": {},
     "output_type": "execute_result"
    }
   ],
   "source": [
    "# question C & D\n",
    "\n",
    "mean = np.mean(d)\n",
    "prob = 1 - stats.rayleigh.cdf(1.02, loc = 1.00, scale = 0.01)\n",
    "prob\n",
    "\n",
    "# the number I got is just the area under the distribution that's greater than the bar I set at 1.02.\n"
   ]
  },
  {
   "cell_type": "code",
   "execution_count": 29,
   "id": "3c66ac3e-3541-4ba4-91b5-7f3bf0294d9b",
   "metadata": {},
   "outputs": [
    {
     "data": {
      "text/plain": [
       "-0.7138193503694712"
      ]
     },
     "execution_count": 29,
     "metadata": {},
     "output_type": "execute_result"
    }
   ],
   "source": [
    "# question E\n",
    "\n",
    "mean = np.mean(d)\n",
    "value1 = stats.rayleigh.ppf(intergal,loc = 1.00, scale = 0.01)\n",
    "sigma = (value1 - mean)/0.01\n",
    "sigma"
   ]
  },
  {
   "cell_type": "markdown",
   "id": "d3384cb9-3b14-4ef4-9ccf-e39a80f5fe4a",
   "metadata": {},
   "source": [
    "### Problem #4"
   ]
  },
  {
   "cell_type": "code",
   "execution_count": 27,
   "id": "41ccae84-b02b-4c56-8d03-0e54acf57997",
   "metadata": {},
   "outputs": [
    {
     "data": {
      "text/plain": [
       "-1.1036295654537565"
      ]
     },
     "execution_count": 27,
     "metadata": {},
     "output_type": "execute_result"
    }
   ],
   "source": [
    "# trials\n",
    "testvalue2 = 1.03\n",
    "prob2 = 1 - stats.rayleigh.cdf(testvalue2, loc = 1.00, scale = 0.01)\n",
    "value2 = stats.rayleigh.ppf(prob2,loc = 1.00, scale = 0.01)\n",
    "sigma2 = (value2 - mean)/0.01\n",
    "sigma2"
   ]
  },
  {
   "cell_type": "code",
   "execution_count": 26,
   "id": "22e3d12e-1e54-4f11-aa11-7acd5f168095",
   "metadata": {},
   "outputs": [
    {
     "data": {
      "text/plain": [
       "0.11273158174631703"
      ]
     },
     "execution_count": 26,
     "metadata": {},
     "output_type": "execute_result"
    }
   ],
   "source": [
    "# more trials\n",
    "testvalue3 = 1.01\n",
    "prob3 = 1 - stats.rayleigh.cdf(testvalue3, loc = 1.00, scale = 0.01)\n",
    "value3 = stats.rayleigh.ppf(prob3,loc = 1.00, scale = 0.01)\n",
    "sigma3 = (value3 - mean)/0.01\n",
    "sigma3"
   ]
  },
  {
   "cell_type": "markdown",
   "id": "28621b36-81b5-4c71-bdac-d103e1afeb3b",
   "metadata": {},
   "source": [
    "As we choose a value that's closer to the mean of the distribution, the sigma value become smaller,vice versa.\n",
    "Which matches the expectation since sigma is basically how far away the data point is from the center."
   ]
  },
  {
   "cell_type": "markdown",
   "id": "771c0297-0886-4f06-a1c8-fddcee8fffe0",
   "metadata": {},
   "source": [
    "# Non-continuous distributions"
   ]
  },
  {
   "cell_type": "code",
   "execution_count": 154,
   "id": "6777db90-cc86-49d0-aece-bec11684e1a9",
   "metadata": {},
   "outputs": [
    {
     "data": {
      "image/png": "[encoded data removed]",
      "text/plain": [
       "<Figure size 1080x720 with 1 Axes>"
      ]
     },
     "metadata": {
      "needs_background": "light"
     },
     "output_type": "display_data"
    }
   ],
   "source": [
    "s1 = np.random.poisson(7,1000)\n",
    "mu1 = np.mean(s1)\n",
    "ax = plt.hist(s1, 20, density=True)"
   ]
  },
  {
   "cell_type": "code",
   "execution_count": 156,
   "id": "ce67909c-61c0-44e7-afd4-c15e2e293f57",
   "metadata": {},
   "outputs": [
    {
     "data": {
      "image/png": "[encoded data removed]",
      "text/plain": [
       "<Figure size 1080x720 with 1 Axes>"
      ]
     },
     "metadata": {
      "needs_background": "light"
     },
     "output_type": "display_data"
    }
   ],
   "source": [
    "s2 = np.random.poisson(400,1000)\n",
    "mu2 = np.mean(s2)\n",
    "ax = plt.hist(s2, 20, density=True)"
   ]
  },
  {
   "cell_type": "markdown",
   "id": "84bf4b3f-7c72-4fc0-a4f4-5e0588622c03",
   "metadata": {},
   "source": [
    "B.For poisson distribution, for a given λ, y-axis is the probability of that occurrences given λ, therefore changing the given\n",
    "λ changes the center of the distribution, and changing n changes the upper limit of the distribution."
   ]
  },
  {
   "cell_type": "code",
   "execution_count": 161,
   "id": "d22ff86d-3654-494d-91e5-86be6bc102e0",
   "metadata": {},
   "outputs": [
    {
     "name": "stdout",
     "output_type": "stream",
     "text": [
      "Probability of we getting a number that's less than 7 in the first trial is  0.5872422320705994\n",
      "Probability of we getting a number that's less than 400 in the second trial is  0.5065733697313715\n"
     ]
    }
   ],
   "source": [
    "# question c\n",
    "# q1: what's the probability of getting a number that's less than 7 in the first trial?\n",
    "# q2: what's the probability of getting a number that's less than 400 in the second trial?\n",
    "prob1 = poisson.cdf(7, mu1)\n",
    "prob2 = poisson.cdf(400, mu2)\n",
    "print(\"Probability of we getting a number that's less than 7 in the first trial is \",prob1)\n",
    "print(\"Probability of we getting a number that's less than 400 in the second trial is \",prob2)"
   ]
  },
  {
   "cell_type": "markdown",
   "id": "db8fb421-d120-4af9-be44-21e50687e697",
   "metadata": {},
   "source": [
    "D.In experiments, we usually don't get nice data that look like a continuous distribution, therefore discrete distribution is closer to real-life situations. For poisson distributions, sigma is also discrete, so it will vary more than continuous distributions."
   ]
  },
  {
   "cell_type": "markdown",
   "id": "533d93a1-9703-44ac-bedb-8626cdf0aee9",
   "metadata": {},
   "source": [
    "E. parameters such as mean doesn't change to discrete because it depends on the whole dataset, each data points can be integers but when you put them together and calculate the mean it can be a float. Descrete or not depends on it's own characteristics."
   ]
  },
  {
   "cell_type": "code",
   "execution_count": null,
   "id": "20b76f2c-4167-4130-97d4-ecef2fc3645d",
   "metadata": {},
   "outputs": [],
   "source": []
  }
 ],
 "metadata": {
  "kernelspec": {
   "display_name": "Python 3",
   "language": "python",
   "name": "python3"
  },
  "language_info": {
   "codemirror_mode": {
    "name": "ipython",
    "version": 3
   },
   "file_extension": ".py",
   "mimetype": "text/x-python",
   "name": "python",
   "nbconvert_exporter": "python",
   "pygments_lexer": "ipython3",
   "version": "3.8.8"
  }
 },
 "nbformat": 4,
 "nbformat_minor": 5
}

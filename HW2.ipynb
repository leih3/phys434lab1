{
 "cells": [
  {
   "cell_type": "code",
   "execution_count": 3,
   "id": "b0782086-9cef-4611-bd0a-ea0639467dac",
   "metadata": {},
   "outputs": [],
   "source": [
    "import random\n",
    "import math\n",
    "import numpy as np\n",
    "import matplotlib.pyplot as plt"
   ]
  },
  {
   "cell_type": "markdown",
   "id": "5c320009-22d6-4cdb-aed4-98fde7b7a7da",
   "metadata": {},
   "source": [
    "# Homework #2\n",
    "Please turn this homework in as an notebook exported as html, and include it in your GitHub repository.\n",
    "\n",
    "1) A little introductory brain teaser. Which is more probable when rolling 2 six-sided dice: rolling snake eyes (two ones) or rolling sevens (dice sum to seven)? What is the ratio of the probabilities?\n",
    "\n",
    "2) Following what we did in class show how to use the convolution operator to determine the probability of the sum of 2 six sided dice. Do both analytically (math & counting) and numerically (computer program). Beware the implicit definition of the values (x-axis on histogram).\n",
    "\n",
    "3) Calculate the mean and the variance of the distribution in problem 2. Hint: this is surprisingly tricky, make sure your result makes sense.\n",
    "\n",
    "4) Repeat 2, and graph the average of 10 dice. Is this is a Gaussian distribution? Explain in depth.\n",
    "\n",
    "5) Show that the sum and average of an initially Gaussian distribution is also a Guassian (can be analytic or numerical). How does the standard deviation of the resulting sum or average Guassian change? This is a hugely important result. Explore what this means for integrating a signal over time."
   ]
  },
  {
   "cell_type": "code",
   "execution_count": 4,
   "id": "a4a97bd8-979c-4183-9a16-c0cd7a2382d2",
   "metadata": {},
   "outputs": [
    {
     "data": {
      "text/plain": [
       "0.02782"
      ]
     },
     "execution_count": 4,
     "metadata": {},
     "output_type": "execute_result"
    }
   ],
   "source": [
    "# probability of rolling snake eye\n",
    "trials = 100000\n",
    "countSnake = 0\n",
    "for i in range(0,trials):\n",
    "    firstRoll = random.randint(1,6)\n",
    "    if firstRoll == 1:\n",
    "        secondRoll = random.randint(1,6)\n",
    "        if secondRoll == 1:\n",
    "            countSnake = countSnake + 1\n",
    "probS = countSnake/trials\n",
    "probS\n",
    "\n",
    "# calculated probability of getting Snake eye should be 1/36"
   ]
  },
  {
   "cell_type": "code",
   "execution_count": 5,
   "id": "6b9a3ae9-255b-460a-8b1a-2ffb2c25ff71",
   "metadata": {},
   "outputs": [
    {
     "data": {
      "text/plain": [
       "0.16508"
      ]
     },
     "execution_count": 5,
     "metadata": {},
     "output_type": "execute_result"
    }
   ],
   "source": [
    "\n",
    "# probability of rolling two dices sum to 7\n",
    "trials = 100000\n",
    "count7 = 0\n",
    "for i in range(0,trials):\n",
    "    dice1 = random.randint(1,6)\n",
    "    dice2 = random.randint(1,6)\n",
    "    if dice1 + dice2 == 7:\n",
    "        count7 = count7 + 1\n",
    "\n",
    "prob7 = count7/trials\n",
    "prob7\n",
    "\n",
    "\n",
    "# calculated probability of two dice that have a sum of 7 should be 1/6\n",
    "# the ratio of getting a sum of 7 should be 6 times more than getting a snake eye."
   ]
  },
  {
   "cell_type": "code",
   "execution_count": 6,
   "id": "d75fa5df-dad5-49ca-b3dd-c73737cbc945",
   "metadata": {},
   "outputs": [
    {
     "name": "stdout",
     "output_type": "stream",
     "text": [
      "[0.16666667 0.16666667 0.16666667 0.16666667 0.16666667 0.16666667]\n"
     ]
    },
    {
     "data": {
      "text/plain": [
       "array([0.02777778, 0.05555556, 0.08333333, 0.11111111, 0.13888889,\n",
       "       0.16666667, 0.13888889, 0.11111111, 0.08333333, 0.05555556,\n",
       "       0.02777778])"
      ]
     },
     "execution_count": 6,
     "metadata": {},
     "output_type": "execute_result"
    }
   ],
   "source": [
    "prob = np.array([1/6] * 6)\n",
    "print(prob)\n",
    "sum_prob = np.convolve(prob,prob)\n",
    "sum_prob\n",
    "\n",
    "# sum_prob is the probability of outcomes for the sum of two dices, calculated by \n",
    "# convolving probability of outcomes of two dices."
   ]
  },
  {
   "cell_type": "code",
   "execution_count": 7,
   "id": "aad42cc7-f73f-4c0e-952c-e891d1d96fa2",
   "metadata": {},
   "outputs": [
    {
     "data": {
      "text/plain": [
       "Text(0.5, 1.0, 'Probability of outcomes for sum of two dices')"
      ]
     },
     "execution_count": 7,
     "metadata": {},
     "output_type": "execute_result"
    },
    {
     "data": {
      "image/png": "[encoded data removed]",
      "text/plain": [
       "<Figure size 432x288 with 1 Axes>"
      ]
     },
     "metadata": {
      "needs_background": "light"
     },
     "output_type": "display_data"
    }
   ],
   "source": [
    "x = np.arange(2,13)\n",
    "plt.bar(x,sum_prob)\n",
    "plt.xlabel(\"Sum of two dices\")\n",
    "plt.ylabel(\"Probability\")\n",
    "plt.title(\"Probability of outcomes for sum of two dices\")"
   ]
  },
  {
   "cell_type": "code",
   "execution_count": 8,
   "id": "62b11f83-7792-43da-95a0-a2e73acc1df1",
   "metadata": {},
   "outputs": [],
   "source": [
    "# analytically the probability of getting 2,3,4,5,6,7,8,9,10,11,12 are \n",
    "#1/36, 2/36, 3/36, 4/36/, 5/36, 6/36, 5/36, 4/36, 3/36, 2/36, 1/36 accordingly."
   ]
  },
  {
   "cell_type": "code",
   "execution_count": 9,
   "id": "af219250-14d2-4a09-b587-8e89ed20826a",
   "metadata": {},
   "outputs": [
    {
     "name": "stdout",
     "output_type": "stream",
     "text": [
      "The mean of all the outcomes of the sum of two dices is 7.0\n",
      "The variance of the distribution is 5.833333333333334\n"
     ]
    }
   ],
   "source": [
    "#problem 3 code\n",
    "mean = sum(np.arange(2,13) * sum_prob)\n",
    "print(\"The mean of all the outcomes of the sum of two dices is\",mean)\n",
    "variance = sum((np.arange(2,13)-mean)**2 * sum_prob)\n",
    "print(\"The variance of the distribution is\", variance)"
   ]
  },
  {
   "cell_type": "code",
   "execution_count": 19,
   "id": "d8933285-30d5-4e89-99ec-5ee41b53e90a",
   "metadata": {},
   "outputs": [
    {
     "data": {
      "text/plain": [
       "<matplotlib.collections.LineCollection at 0x7f8f84669580>"
      ]
     },
     "execution_count": 19,
     "metadata": {},
     "output_type": "execute_result"
    },
    {
     "data": {
      "image/png": "[encoded data removed]",
      "text/plain": [
       "<Figure size 432x288 with 1 Axes>"
      ]
     },
     "metadata": {
      "needs_background": "light"
     },
     "output_type": "display_data"
    }
   ],
   "source": [
    "trials = 10\n",
    "avg_probs = prob\n",
    "for i in range(trials):\n",
    "    avg_probs = np.convolve(prob, avg_probs)\n",
    "plt.xlabel(\"Average\")\n",
    "plt.ylabel(\"Probability\")\n",
    "plt.title(\"Probability distribution for rolling 10 dices\")\n",
    "possibleX = np.linspace(1,6,len(avg_probs))\n",
    "plt.vlines(possibleX, 0, avg_probs)"
   ]
  },
  {
   "cell_type": "code",
   "execution_count": 16,
   "id": "483f657f-4ab4-4f55-83ca-88531b7ed536",
   "metadata": {},
   "outputs": [
    {
     "data": {
      "text/plain": [
       "56"
      ]
     },
     "execution_count": 16,
     "metadata": {},
     "output_type": "execute_result"
    }
   ],
   "source": [
    "# the over all shape of the graph looks like a gaussian distribution, but it's not exactly gaussian, \n",
    "# the distribution will become a better approximation as we increase the number of trials"
   ]
  },
  {
   "cell_type": "code",
   "execution_count": null,
   "id": "491e9a85-e179-4358-a2be-f13c3e1982b1",
   "metadata": {},
   "outputs": [],
   "source": []
  }
 ],
 "metadata": {
  "kernelspec": {
   "display_name": "Python 3",
   "language": "python",
   "name": "python3"
  },
  "language_info": {
   "codemirror_mode": {
    "name": "ipython",
    "version": 3
   },
   "file_extension": ".py",
   "mimetype": "text/x-python",
   "name": "python",
   "nbconvert_exporter": "python",
   "pygments_lexer": "ipython3",
   "version": "3.8.8"
  }
 },
 "nbformat": 4,
 "nbformat_minor": 5
}
